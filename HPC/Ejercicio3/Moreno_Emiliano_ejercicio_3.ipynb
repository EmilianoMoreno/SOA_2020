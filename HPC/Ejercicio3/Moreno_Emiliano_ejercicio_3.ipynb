{
  "nbformat": 4,
  "nbformat_minor": 0,
  "metadata": {
    "colab": {
      "name": "Moreno_Emiliano_ejercicio_3.ipynb",
      "provenance": [],
      "collapsed_sections": []
    },
    "kernelspec": {
      "name": "python3",
      "display_name": "Python 3"
    },
    "accelerator": "GPU"
  },
  "cells": [
    {
      "cell_type": "markdown",
      "metadata": {
        "id": "qoYPFWcielY3"
      },
      "source": [
        "# 1 Introducción\n",
        "\n",
        "El siguiente cuaderno realiza la multiplicación matriz x vector, utilizando GPGPU. Para su resolución se utilizo la libreria **OpenCL**, que es una alternativa diferente a CUDA y permite aprovechar la potencia de lo procesadores gráficos para realizar operaciones intensas. \n",
        "\n",
        "Para la resolución se aplicaron conceptos de Lenguaje Python, OPENCL y el manejo de operaciones aritméticas entre matrices y vectores."
      ]
    },
    {
      "cell_type": "markdown",
      "metadata": {
        "id": "32YB71STfPcy"
      },
      "source": [
        "---\n",
        "# 2 Armado del ambiente\n",
        "Toma la direcciòn web de una imagen con  acceso público en internet, la deja disponible al contexto de ejecuciòn del cuaderno colab."
      ]
    },
    {
      "cell_type": "markdown",
      "metadata": {
        "id": "3GLsQ34ysP4_"
      },
      "source": [
        "---\n",
        "## 2.2 Instala en el cuaderno el módulo CUDA de Python."
      ]
    },
    {
      "cell_type": "code",
      "metadata": {
        "id": "ropgS48tsRTv",
        "colab": {
          "base_uri": "https://localhost:8080/"
        },
        "outputId": "aca9306a-4628-4951-af32-0280339b974a"
      },
      "source": [
        "!pip install pyopencl "
      ],
      "execution_count": 1,
      "outputs": [
        {
          "output_type": "stream",
          "text": [
            "Collecting pyopencl\n",
            "\u001b[?25l  Downloading https://files.pythonhosted.org/packages/7a/12/7d4171ecfaf61bafdc4a628263d086b8e75ff89f4ada5458ff1fd16d953c/pyopencl-2020.3.1-cp36-cp36m-manylinux1_x86_64.whl (738kB)\n",
            "\r\u001b[K     |▍                               | 10kB 24.1MB/s eta 0:00:01\r\u001b[K     |▉                               | 20kB 29.8MB/s eta 0:00:01\r\u001b[K     |█▎                              | 30kB 35.2MB/s eta 0:00:01\r\u001b[K     |█▊                              | 40kB 35.0MB/s eta 0:00:01\r\u001b[K     |██▏                             | 51kB 36.7MB/s eta 0:00:01\r\u001b[K     |██▋                             | 61kB 38.6MB/s eta 0:00:01\r\u001b[K     |███                             | 71kB 27.6MB/s eta 0:00:01\r\u001b[K     |███▌                            | 81kB 25.2MB/s eta 0:00:01\r\u001b[K     |████                            | 92kB 26.5MB/s eta 0:00:01\r\u001b[K     |████▍                           | 102kB 23.5MB/s eta 0:00:01\r\u001b[K     |████▉                           | 112kB 23.5MB/s eta 0:00:01\r\u001b[K     |█████▎                          | 122kB 23.5MB/s eta 0:00:01\r\u001b[K     |█████▊                          | 133kB 23.5MB/s eta 0:00:01\r\u001b[K     |██████▏                         | 143kB 23.5MB/s eta 0:00:01\r\u001b[K     |██████▋                         | 153kB 23.5MB/s eta 0:00:01\r\u001b[K     |███████                         | 163kB 23.5MB/s eta 0:00:01\r\u001b[K     |███████▌                        | 174kB 23.5MB/s eta 0:00:01\r\u001b[K     |████████                        | 184kB 23.5MB/s eta 0:00:01\r\u001b[K     |████████▍                       | 194kB 23.5MB/s eta 0:00:01\r\u001b[K     |████████▉                       | 204kB 23.5MB/s eta 0:00:01\r\u001b[K     |█████████▎                      | 215kB 23.5MB/s eta 0:00:01\r\u001b[K     |█████████▊                      | 225kB 23.5MB/s eta 0:00:01\r\u001b[K     |██████████▏                     | 235kB 23.5MB/s eta 0:00:01\r\u001b[K     |██████████▋                     | 245kB 23.5MB/s eta 0:00:01\r\u001b[K     |███████████                     | 256kB 23.5MB/s eta 0:00:01\r\u001b[K     |███████████▌                    | 266kB 23.5MB/s eta 0:00:01\r\u001b[K     |████████████                    | 276kB 23.5MB/s eta 0:00:01\r\u001b[K     |████████████▍                   | 286kB 23.5MB/s eta 0:00:01\r\u001b[K     |████████████▉                   | 296kB 23.5MB/s eta 0:00:01\r\u001b[K     |█████████████▎                  | 307kB 23.5MB/s eta 0:00:01\r\u001b[K     |█████████████▊                  | 317kB 23.5MB/s eta 0:00:01\r\u001b[K     |██████████████▏                 | 327kB 23.5MB/s eta 0:00:01\r\u001b[K     |██████████████▋                 | 337kB 23.5MB/s eta 0:00:01\r\u001b[K     |███████████████                 | 348kB 23.5MB/s eta 0:00:01\r\u001b[K     |███████████████▌                | 358kB 23.5MB/s eta 0:00:01\r\u001b[K     |████████████████                | 368kB 23.5MB/s eta 0:00:01\r\u001b[K     |████████████████▍               | 378kB 23.5MB/s eta 0:00:01\r\u001b[K     |████████████████▉               | 389kB 23.5MB/s eta 0:00:01\r\u001b[K     |█████████████████▎              | 399kB 23.5MB/s eta 0:00:01\r\u001b[K     |█████████████████▊              | 409kB 23.5MB/s eta 0:00:01\r\u001b[K     |██████████████████▏             | 419kB 23.5MB/s eta 0:00:01\r\u001b[K     |██████████████████▋             | 430kB 23.5MB/s eta 0:00:01\r\u001b[K     |███████████████████             | 440kB 23.5MB/s eta 0:00:01\r\u001b[K     |███████████████████▌            | 450kB 23.5MB/s eta 0:00:01\r\u001b[K     |████████████████████            | 460kB 23.5MB/s eta 0:00:01\r\u001b[K     |████████████████████▍           | 471kB 23.5MB/s eta 0:00:01\r\u001b[K     |████████████████████▉           | 481kB 23.5MB/s eta 0:00:01\r\u001b[K     |█████████████████████▎          | 491kB 23.5MB/s eta 0:00:01\r\u001b[K     |█████████████████████▊          | 501kB 23.5MB/s eta 0:00:01\r\u001b[K     |██████████████████████▏         | 512kB 23.5MB/s eta 0:00:01\r\u001b[K     |██████████████████████▋         | 522kB 23.5MB/s eta 0:00:01\r\u001b[K     |███████████████████████         | 532kB 23.5MB/s eta 0:00:01\r\u001b[K     |███████████████████████▌        | 542kB 23.5MB/s eta 0:00:01\r\u001b[K     |████████████████████████        | 552kB 23.5MB/s eta 0:00:01\r\u001b[K     |████████████████████████▍       | 563kB 23.5MB/s eta 0:00:01\r\u001b[K     |████████████████████████▉       | 573kB 23.5MB/s eta 0:00:01\r\u001b[K     |█████████████████████████▎      | 583kB 23.5MB/s eta 0:00:01\r\u001b[K     |█████████████████████████▊      | 593kB 23.5MB/s eta 0:00:01\r\u001b[K     |██████████████████████████▏     | 604kB 23.5MB/s eta 0:00:01\r\u001b[K     |██████████████████████████▋     | 614kB 23.5MB/s eta 0:00:01\r\u001b[K     |███████████████████████████     | 624kB 23.5MB/s eta 0:00:01\r\u001b[K     |███████████████████████████▌    | 634kB 23.5MB/s eta 0:00:01\r\u001b[K     |████████████████████████████    | 645kB 23.5MB/s eta 0:00:01\r\u001b[K     |████████████████████████████▍   | 655kB 23.5MB/s eta 0:00:01\r\u001b[K     |████████████████████████████▉   | 665kB 23.5MB/s eta 0:00:01\r\u001b[K     |█████████████████████████████▎  | 675kB 23.5MB/s eta 0:00:01\r\u001b[K     |█████████████████████████████▊  | 686kB 23.5MB/s eta 0:00:01\r\u001b[K     |██████████████████████████████▏ | 696kB 23.5MB/s eta 0:00:01\r\u001b[K     |██████████████████████████████▋ | 706kB 23.5MB/s eta 0:00:01\r\u001b[K     |███████████████████████████████ | 716kB 23.5MB/s eta 0:00:01\r\u001b[K     |███████████████████████████████▌| 727kB 23.5MB/s eta 0:00:01\r\u001b[K     |████████████████████████████████| 737kB 23.5MB/s eta 0:00:01\r\u001b[K     |████████████████████████████████| 747kB 23.5MB/s \n",
            "\u001b[?25hRequirement already satisfied: decorator>=3.2.0 in /usr/local/lib/python3.6/dist-packages (from pyopencl) (4.4.2)\n",
            "Collecting appdirs>=1.4.0\n",
            "  Downloading https://files.pythonhosted.org/packages/3b/00/2344469e2084fb287c2e0b57b72910309874c3245463acd6cf5e3db69324/appdirs-1.4.4-py2.py3-none-any.whl\n",
            "Collecting pytools>=2017.6\n",
            "\u001b[?25l  Downloading https://files.pythonhosted.org/packages/b7/30/c9362a282ef89106768cba9d884f4b2e4f5dc6881d0c19b478d2a710b82b/pytools-2020.4.3.tar.gz (62kB)\n",
            "\u001b[K     |████████████████████████████████| 71kB 11.8MB/s \n",
            "\u001b[?25hRequirement already satisfied: numpy in /usr/local/lib/python3.6/dist-packages (from pyopencl) (1.18.5)\n",
            "Requirement already satisfied: six>=1.8.0 in /usr/local/lib/python3.6/dist-packages (from pytools>=2017.6->pyopencl) (1.15.0)\n",
            "Requirement already satisfied: dataclasses>=0.7 in /usr/local/lib/python3.6/dist-packages (from pytools>=2017.6->pyopencl) (0.7)\n",
            "Building wheels for collected packages: pytools\n",
            "  Building wheel for pytools (setup.py) ... \u001b[?25l\u001b[?25hdone\n",
            "  Created wheel for pytools: filename=pytools-2020.4.3-py2.py3-none-any.whl size=61374 sha256=72cd43f0994a581407d62505c848e70a24f3104fcd0dbbdbc405c907edcfb9b1\n",
            "  Stored in directory: /root/.cache/pip/wheels/af/c7/81/a22edb90b0b09a880468b2253bb1df8e9f503337ee15432c64\n",
            "Successfully built pytools\n",
            "Installing collected packages: appdirs, pytools, pyopencl\n",
            "Successfully installed appdirs-1.4.4 pyopencl-2020.3.1 pytools-2020.4.3\n"
          ],
          "name": "stdout"
        }
      ]
    },
    {
      "cell_type": "markdown",
      "metadata": {
        "id": "Xt4Pea0Psrx_"
      },
      "source": [
        "---\n",
        "# 3 Desarrollo\n"
      ]
    },
    {
      "cell_type": "code",
      "metadata": {
        "id": "8_uVXVJjz_Jr",
        "colab": {
          "base_uri": "https://localhost:8080/"
        },
        "outputId": "935820c8-787a-4b25-8573-bce402aa7b39"
      },
      "source": [
        "# --------------------------------------------\n",
        "#@title 3.1 Parámetros de ejecución { vertical-output: true }\n",
        "\n",
        "N =   100#@param {type: \"number\"}\n",
        "\n",
        "# --------------------------------------------\n",
        "\n",
        "import pyopencl as cl\n",
        "from pyopencl import cltypes\n",
        "import numpy\n",
        "from datetime import datetime\n",
        "\n",
        "tiempo_total = datetime.now()\n",
        "\n",
        "# --------------------------------------------\n",
        "# Definición de función que transforma el tiempo en  milisegundos \n",
        "tiempo_en_ms = lambda dt:(dt.days * 24 * 60 * 60 + dt.seconds) * 1000 + dt.microseconds / 1000.0\n",
        "\n",
        "# --------------------------------------------\n",
        "if __name__ == \"__main__\":\n",
        "\n",
        "    # Defino la memoria para el vectores en cpu.\n",
        "    vector = numpy.random.randn( N )\n",
        "    vector = vector.astype( numpy.float32() )\n",
        "\n",
        "    matrix = numpy.random.randn( N , N )\n",
        "    matrix = matrix.astype( numpy.float32() )\n",
        "\n",
        "    tiempo_ini_cpu = datetime.now()\n",
        "\n",
        "    #Obtengo plataforma OpenCL\n",
        "    platform = cl.get_platforms()[0]\n",
        "     \n",
        "    #Obtengo una identificación de dispositivo (acelerador)\n",
        "    device = platform.get_devices()[0]\n",
        "\n",
        "    #Creo un contexto para el dispositivo seleccionado\n",
        "    context = cl.Context([device])\n",
        "     \n",
        "    # CPU - Defino la función kernel que ejecutará en GPU.\n",
        "    program = cl.Program(context, \"\"\"\n",
        "        __kernel void MatrizxVector(__global const float4 *matrix,\n",
        "        __global const float4 *vector, __global float *result)\n",
        "        {\n",
        "          int gid = get_global_id(0);\n",
        "          result[gid] = dot(matrix[gid], vector[0]);\n",
        "        }\n",
        "        \"\"\").build()\n",
        "     \n",
        "    tiempo_gpu = datetime.now()\n",
        "    \n",
        "    #Creo una cola de comandos para el dispositivo de destino\n",
        "    queue = cl.CommandQueue(context)\n",
        "     \n",
        "    #Asigno la memoria del dispositivo y muevo los datos de entrada del host a la memoria del dispositivo.\n",
        "    mem_flags = cl.mem_flags\n",
        "    matrix_buf = cl.Buffer(context, mem_flags.READ_ONLY | mem_flags.COPY_HOST_PTR, hostbuf=matrix)\n",
        "    vector_buf = cl.Buffer(context, mem_flags.READ_ONLY | mem_flags.COPY_HOST_PTR, hostbuf=vector)\n",
        "    matriz_x_vector = numpy.zeros(N, numpy.float32)\n",
        "    destination_buf = cl.Buffer(context, mem_flags.WRITE_ONLY, matriz_x_vector.nbytes)\n",
        "     \n",
        "    tiempo_gpu = datetime.now()\n",
        "\n",
        "    #Ejecución de Kernel\n",
        "    program.MatrizxVector(queue, matriz_x_vector.shape, None, matrix_buf, vector_buf, destination_buf)\n",
        "    \n",
        "    tiempo_gpu = datetime.now() - tiempo_gpu\n",
        "\n",
        "    #Muevo los datos de salida del kernel a la memoria del host.\n",
        "    cl.enqueue_copy(queue, matriz_x_vector, destination_buf)\n",
        "     \n",
        "    #\"\"\"\n",
        "    # CPU - Informo el resutlado.\n",
        "    print( \"------------------------------------\")\n",
        "    print( \"VECTOR: \" )\n",
        "    print( vector )\n",
        "    print( \"------------------------------------\")\n",
        "    print( \"MATRIZ: \" )\n",
        "    print( matrix )\n",
        "    print( \"------------------------------------\")\n",
        "    print( \"Multiplicación: \" )\n",
        "    print( matriz_x_vector )\n",
        "    print( \"------------------------------------\")\n",
        "    #\"\"\"\n",
        "\n",
        "    tiempo_total = datetime.now() - tiempo_total\n",
        "\n",
        "    print(\"Tiempo CPU: \", tiempo_en_ms( tiempo_total ), \"[ms]\" )\n",
        "    print(\"Tiempo GPU: \", tiempo_en_ms( tiempo_gpu   ), \"[ms]\" )\n"
      ],
      "execution_count": 3,
      "outputs": [
        {
          "output_type": "stream",
          "text": [
            "------------------------------------\n",
            "VECTOR: \n",
            "[-0.16755164  0.88721204 -0.3626479  -0.11519394 -0.9628378  -0.9337501\n",
            " -0.07733484  0.1908773   0.39765906 -0.20686077 -1.0749935   0.81192875\n",
            "  0.71897304 -2.4673293  -1.204745    0.5003272  -0.62082136 -1.9583313\n",
            " -0.24190967  0.1916502   0.33789918 -0.14364009  0.49533272  1.3450333\n",
            "  0.8028735  -0.67952836 -1.2838707  -2.349502   -2.2026432   0.8174451\n",
            " -0.7803032  -0.5160703   0.5911788  -0.6622259   0.947358   -0.45198375\n",
            " -0.90028185  0.7177524   0.8838859  -0.562218   -0.849144    0.37244004\n",
            " -0.687453    0.70781505  0.9502905   0.01143862 -0.1509025  -1.1597444\n",
            " -1.9189411  -0.62214804 -0.43361112  0.37938195 -0.3491624  -0.18430084\n",
            "  1.3107641  -0.21946192 -0.09654064  0.4740356  -0.58774287  0.96957654\n",
            " -0.99684304 -0.8162204  -0.69454443 -1.8997283   0.00601319 -1.1018468\n",
            "  0.5139873  -1.5555272   0.10036635  0.36689243  0.13025744  0.7910716\n",
            "  1.5515996  -0.45267537  0.92881364 -0.5239982  -1.2072972   0.48733404\n",
            " -1.7473189  -0.2651415  -0.4589107  -0.32214507  0.20461588 -0.16056044\n",
            "  0.63924265  0.19354254  0.32948098  1.4750941   1.0377551  -0.11440293\n",
            "  0.6094826   0.8916454  -1.5442333   0.51871514  0.35228488  0.40578264\n",
            "  0.9971786  -0.7887785   2.352605   -0.18112643]\n",
            "------------------------------------\n",
            "MATRIZ: \n",
            "[[-0.34567124  0.7868653  -0.04197682 ...  0.5489756  -0.27207115\n",
            "   0.4008493 ]\n",
            " [-0.36126727 -0.2915043   2.3018239  ...  0.14839701 -1.292851\n",
            "   1.031495  ]\n",
            " [-0.9166839   1.4975305  -1.0407453  ... -0.20802204 -1.3747448\n",
            "   0.02973579]\n",
            " ...\n",
            " [-0.26007044  0.30192113 -0.05491718 ... -2.5822065   1.3048843\n",
            "   0.5267206 ]\n",
            " [ 0.18629405 -1.6128136   0.21980111 ...  2.1813679   0.7370699\n",
            "   1.3086058 ]\n",
            " [-0.08282981 -0.2554589  -0.71022093 ... -0.12107661 -0.9927917\n",
            "   1.9213388 ]]\n",
            "------------------------------------\n",
            "Multiplicación: \n",
            "[ 0.79675645 -1.0286916  -0.12083885 -1.2454969   1.1559265   0.2551616\n",
            "  0.8588575   0.13102089 -0.16364577 -1.0149928   0.82422495 -1.7434193\n",
            "  0.28105763  1.302747   -1.1989902  -0.94870186 -0.8744592   1.5531433\n",
            "  0.01341946 -0.3881689  -0.22223085  0.7334209   1.994769    1.6726772\n",
            "  0.24382801 -1.1661536   0.18167219  0.9076174  -0.7545968   0.3682628\n",
            " -0.05601211  0.4213021  -0.00916482 -1.2320327   0.21725145 -0.21984658\n",
            "  0.26008055 -0.6393041   0.6585215   0.808234    0.6899093   0.27719554\n",
            "  1.0974042  -1.5246161  -0.3479077  -1.1676064   1.0607257   0.65532887\n",
            " -1.1510463   0.4676218   1.9487729   1.7764584  -2.0941951   1.2841798\n",
            " -0.95920175 -0.14097047  0.71939933  0.99821484  1.4959993  -0.31781945\n",
            "  0.5671202   0.88818854 -1.7846386   0.7170376  -1.5336235  -0.19484277\n",
            " -0.14530644 -1.02496    -0.3894929   0.31149605 -2.232186   -1.3624883\n",
            "  1.3477211  -0.14628085  0.52585936 -0.85718066  1.0984694   0.23899959\n",
            " -0.3664074  -0.06008759 -0.7346557  -1.1860902   1.5055099   1.0956012\n",
            " -0.7454484   0.229769    0.06612389  1.5689776   0.02900533  0.2588355\n",
            " -1.448877    0.4236599  -1.7998685   0.5895534  -0.12095328  0.88077587\n",
            " -0.16596615  0.42137155  0.21116775 -0.3934337 ]\n",
            "------------------------------------\n",
            "Tiempo CPU:  144.954 [ms]\n",
            "Tiempo GPU:  0.903 [ms]\n"
          ],
          "name": "stdout"
        }
      ]
    },
    {
      "cell_type": "markdown",
      "metadata": {
        "id": "zqAv4Gt7qRrh"
      },
      "source": [
        "---\n",
        "# 4 Tabla de pasos\n",
        "\n",
        "Procesador | Funciòn | Detalle\n",
        "------------|---------|----------\n",
        "CPU      |  @param                | Lectura del tamaño de elementos N desde Colab.\n",
        "CPU      |  import                | Importa los módulos para funcionar.\n",
        "CPU      |  datetime.now()        | Toma el tiempo actual.\n",
        "CPU      |  numpy.random.randn( Cantidad_N ) | Inicializa el vector y matriz.\n",
        "CPU  |  cl.get_platforms()[0]      | Obtengo plataforma OpenCL.\n",
        "CPU  |  platform.get_devices()[0]   | Obtengo una identificación de dispositivo (acelerador)\n",
        "CPU  |  cl.Context([device])   | Creo un contexto para el dispositivo seleccionado.\n",
        "**GPU**      |  cl.Program        | Define el código del kernel \n",
        "CPU     |  cl.CommandQueue(context) | Creo una cola de comandos para el dispositivo de destino\n",
        "CPU      |  cl.mem_flags/cl.Buffer        | Asigno la memoria del dispositivo y muevo los datos de entrada del host a la memoria del dispositivo.\n",
        "**GPU**  |  kernel()              | Ejecuta el kernel en GPU\n",
        "CPU      |  cl.enqueue_copy   | Muevo los datos de salida del kernel a la memoria del host.\n",
        "CPU      |  print()               | Informo los resultados.\n",
        "\n"
      ]
    },
    {
      "cell_type": "markdown",
      "metadata": {
        "id": "Qtiz4_7bmaDe"
      },
      "source": [
        "---\n",
        "# 5 Conclusiones\n",
        "\n",
        "Utilizar GPU con OpenCL reduce y optimiza los tiempos de ejecución de nuestro algoritmo si lo comparamos con el mismo programa ejecutado de forma secuencial que utiliza solo CPU. \n",
        "Para realizar este ejercicio elegí el lenguaje OpenCL ya que me parecio interesante porque presenta una serie de ventajas que no nos ofrece CUDA. En primer CUDA es un lenguaje pensado estrictamente para GPU y que actualmente solo funciona sobre tarjetas Nvidia (el propietario del lenguaje), mientras que OpenCL funciona tanto en tarjetas ATI como en tarjetas Nvidia y otros dispositivos diferentes, como por ejemplo una CPU convencional, siempre que se usen los drivers apropiados.Otro punto a favor de OpenCL es que, como su nombre indica, fomenta el codigo abierto y es de libre distribución. \n",
        "\n",
        "**Sugerencias de mejora:** \n",
        "\n",
        "1) Como nuestro algoritmo solo funciona con matrices cuadradas se podria realizar una mejora que realice la validación de si es posible multiplicar una determinada matriz con un vector. Ejemplo:\n",
        "A es matriz de 3X2 y  B es vector de 2X1. En este caso se pueden multiplicar porque el número de columnas de A es igual al número de filas de B. \n",
        " "
      ]
    },
    {
      "cell_type": "markdown",
      "metadata": {
        "id": "ufDYy0LPmbYH"
      },
      "source": [
        "---\n",
        "# 6 Bibliografía\n",
        "\n",
        "Introducción a Python: [Página Colab](https://github.com/wvaliente/SOA_HPC/blob/main/Documentos/Python_Basico.ipynb) \n",
        "\n",
        "Documentación PyCUDA: [WEB](https://documen.tician.de/pycuda/index.html)\n",
        "\n",
        "Referencias: [WEB]\n",
        "\n",
        "https://ecatue.gitlab.io/gpu2018/pages/Cookbook/matrix_multiplication_opencl.html\n",
        "\n",
        "https://en.wikipedia.org/wiki/OpenCL\n"
      ]
    }
  ]
}