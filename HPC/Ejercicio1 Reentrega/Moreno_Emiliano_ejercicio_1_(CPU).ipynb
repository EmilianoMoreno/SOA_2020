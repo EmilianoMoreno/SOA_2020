{
  "nbformat": 4,
  "nbformat_minor": 0,
  "metadata": {
    "colab": {
      "name": "Moreno_Emiliano_ejercicio_1_(CPU).ipynb",
      "private_outputs": true,
      "provenance": [],
      "collapsed_sections": [
        "B4IHd-IqdvT1"
      ],
      "toc_visible": true
    },
    "kernelspec": {
      "display_name": "Python 3",
      "name": "python3"
    }
  },
  "cells": [
    {
      "cell_type": "markdown",
      "metadata": {
        "id": "KxbAgQ_ocVES"
      },
      "source": [
        "---\n",
        "# 1 Introducción\n",
        "\n",
        "El siguiente cuaderno realiza la multiplicación de dos vectores, utilizando CPU. El resultado se almacena en un tercer vector. La ejecución se realiza secuencial mediante un ciclo FOR.\n",
        "\n",
        "M=αA+B\n",
        "\n",
        "Para la resolución se aplicaron conceptos de Lenguaje Python, CUDA y el manejo de operaciones aritméticas sobre vectores."
      ]
    },
    {
      "cell_type": "markdown",
      "metadata": {
        "id": "M-bYqrOYL9hX"
      },
      "source": [
        "---\n",
        "# 2 Armado del ambiente\n",
        "No son necesarios, ejecuciones previas del armado del ambiente."
      ]
    },
    {
      "cell_type": "markdown",
      "metadata": {
        "id": "NzQaWRTtc1Zj"
      },
      "source": [
        "---\n",
        "# 3 Desarrollo\n"
      ]
    },
    {
      "cell_type": "code",
      "metadata": {
        "id": "9c7mZSnu0M3m"
      },
      "source": [
        "# --------------------------------------------\n",
        "#@title 3.1 Parámetros de ejecución { vertical-output: true }\n",
        "\n",
        "cantidad_N =   5000#@param {type: \"number\"}\n",
        "alfa =   1#@param {type: \"number\"}\n",
        "\n",
        "# --------------------------------------------\n",
        "\n",
        "from datetime import datetime\n",
        "\n",
        "tiempo_total = datetime.now()\n",
        "\n",
        "import numpy\n",
        "\n",
        "# --------------------------------------------\n",
        "# Definición de función que transforma el tiempo en  milisegundos \n",
        "tiempo_en_ms = lambda dt:(dt.days * 24 * 60 * 60 + dt.seconds) * 1000 + dt.microseconds / 1000.0\n",
        "\n",
        "# --------------------------------------------\n",
        "# CPU - Defino la memoria de los vectores en cpu.\n",
        "A_cpu = numpy.random.randn( cantidad_N )\n",
        "A_cpu = A_cpu.astype( numpy.float32() )\n",
        "\n",
        "B_cpu = numpy.random.randn( cantidad_N )\n",
        "B_cpu = B_cpu.astype( numpy.float32() )\n",
        "\n",
        "M_cpu = numpy.random.randn( cantidad_N )\n",
        "M_cpu = M_cpu.astype( numpy.float32() )\n",
        "\n",
        "# --------------------------------------------\n",
        "# CPU - Realizo la función Axpy.\n",
        "\n",
        "tiempo_bucle = datetime.now()\n",
        "\n",
        "for idx in range( 0, cantidad_N ):\n",
        "  M_cpu[idx] = alfa*A_cpu[idx] * B_cpu[idx]\n",
        "\n",
        "tiempo_bucle = datetime.now() - tiempo_bucle\n",
        "\n",
        "# --------------------------------------------\n",
        "\n",
        "#\"\"\"\n",
        "# CPU - Informo el resultado.\n",
        "print( \"------------------------------------\")\n",
        "print( \"Vector A: \" )\n",
        "print( A_cpu )\n",
        "print( \"------------------------------------\")\n",
        "print( \"Vector B: \" )\n",
        "print( B_cpu )\n",
        "print( \"------------------------------------\")\n",
        "print( \"Multplicación A X B: \" )\n",
        "print( M_cpu )\n",
        "print( \"------------------------------------\")\n",
        "#\"\"\"\n",
        "\n",
        "tiempo_total = datetime.now() - tiempo_total\n",
        "\n",
        "print(\"Tiempo Total: \", tiempo_en_ms( tiempo_total ), \"[ms]\" )\n",
        "print(\"Tiempo bucle: \", tiempo_en_ms( tiempo_bucle ), \"[ms]\" )\n"
      ],
      "execution_count": null,
      "outputs": []
    },
    {
      "cell_type": "markdown",
      "metadata": {
        "id": "fwtyQB2tdJuG"
      },
      "source": [
        "---\n",
        "#4 Tabla de pasos\n",
        "Tabla de pasos de la ejecución del programa:\n",
        "\n",
        " Procesador | Función | Detalle\n",
        "------------|---------|----------\n",
        "CPU      |  @param                | Lectura del tamaño de vectores desde Colab.\n",
        "CPU      |  import                | Importa los módulos para funcionar.\n",
        "CPU      |  datetime.now()        | Toma el tiempo inicial.\n",
        "CPU      |  numpy.random.randn( Cantidad_N ) | Inicializa los vectores A, B y M.\n",
        "CPU      |  for...                | Realiza la multiplicación de los vectores A y B, guardando el resultado en M. \n",
        "CPU      |  datetime.now()        | Toma el tiempo final.\n",
        "CPU      |  print()               | Informa los resultados.\n",
        "\n"
      ]
    },
    {
      "cell_type": "markdown",
      "metadata": {
        "id": "3PQxHPkDdo42"
      },
      "source": [
        "---\n",
        "# 5 Conclusiones\n",
        "\n",
        "A medida que aumenta la cantidad de elementos del vector (N) aumenta el tiempo de procesamiento. En CPU tenemos menos funciones y pasos para ejecutar pero la ejecución se realiza mediante un for de forma secuencial lo que afecta los tiempos de procesamiento total comparado con GPU."
      ]
    },
    {
      "cell_type": "markdown",
      "metadata": {
        "id": "B4IHd-IqdvT1"
      },
      "source": [
        "---\n",
        "# 6 Bibliografía\n",
        "\n",
        "Introducción a Python: [Página Colab](https://github.com/wvaliente/SOA_HPC/blob/main/Documentos/Python_Basico.ipynb) \n",
        "\n",
        "Documentación PyCUDA: [WEB](https://documen.tician.de/pycuda/index.html)\n",
        "\n",
        "Referencia WEB:\n",
        "\n",
        "https://compilefacil.wordpress.com/2014/07/30/ejemplos-de-programacion-de-gpgpu-en-cuda/\n",
        "\n",
        "http://openaccess.uoc.edu/webapps/o2/bitstream/10609/23827/1/jperezsanchezTFC0613.pdf\n",
        "\n",
        "https://upcommons.upc.edu/bitstream/handle/2117/100887/122055.pdf?sequence=1&isAllowed=y\n",
        "\n",
        "\n",
        "\n"
      ]
    }
  ]
}