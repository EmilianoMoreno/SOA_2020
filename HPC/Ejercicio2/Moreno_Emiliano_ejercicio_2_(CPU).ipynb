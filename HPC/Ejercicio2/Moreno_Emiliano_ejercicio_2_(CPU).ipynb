{
  "nbformat": 4,
  "nbformat_minor": 0,
  "metadata": {
    "colab": {
      "name": "Moreno_Emiliano_ejercicio_2 (CPU).ipynb",
      "private_outputs": true,
      "provenance": [],
      "collapsed_sections": []
    },
    "kernelspec": {
      "display_name": "Python 3",
      "name": "python3"
    },
    "accelerator": "GPU"
  },
  "cells": [
    {
      "cell_type": "markdown",
      "metadata": {
        "id": "Zw-Vno_15t-E"
      },
      "source": [
        "# 1 Introducción\n",
        "El siguiente cuaderno realiza la transpuesta de una matriz, utilizando CPU. La ejecución se realiza en forma secuencial mediante 2 ciclos FOR que permiten recorrer la matriz y ejecutar la operación.\n",
        "Para la resolución se aplicaron conceptos de Lenguaje Python, CUDA y el manejo de operaciones aritméticas sobre matrices."
      ]
    },
    {
      "cell_type": "markdown",
      "metadata": {
        "id": "7cRnhv_7N4Pa"
      },
      "source": [
        "---\n",
        "# 2 Armado del ambiente\n",
        "No son necesarios, ejecuciones previas del armado del ambiente."
      ]
    },
    {
      "cell_type": "markdown",
      "metadata": {
        "id": "NzQaWRTtc1Zj"
      },
      "source": [
        "---\n",
        "# 3 Desarrollo\n"
      ]
    },
    {
      "cell_type": "code",
      "metadata": {
        "id": "9c7mZSnu0M3m"
      },
      "source": [
        "# --------------------------------------------\n",
        "#@title 3.1 Parámetros de ejecución { vertical-output: true }\n",
        "\n",
        "cantidad_N =   2000#@param {type: \"number\"}\n",
        "\n",
        "# --------------------------------------------\n",
        "\n",
        "from datetime import datetime\n",
        "\n",
        "tiempo_total = datetime.now()\n",
        "\n",
        "import numpy\n",
        "\n",
        "# --------------------------------------------\n",
        "# Definición de función que transforma el tiempo en  milisegundos \n",
        "tiempo_en_ms = lambda dt:(dt.days * 24 * 60 * 60 + dt.seconds) * 1000 + dt.microseconds / 1000.0\n",
        "\n",
        "# CPU - Defino la memoria de la matriz.\n",
        "M_cpu = numpy.random.randn( cantidad_N, cantidad_N)\n",
        "M_cpu = M_cpu.astype( numpy.float32() )\n",
        "T_cpu = numpy.random.randn( cantidad_N, cantidad_N)\n",
        "T_cpu = M_cpu.astype( numpy.float32() )\n",
        "\n",
        "# --------------------------------------------\n",
        "# CPU - Realizo la función TransponerMatriz.\n",
        "\n",
        "tiempo_bucle = datetime.now()\n",
        "\n",
        "for idx in range( 0, cantidad_N ):\n",
        "    for idy in range( 0, cantidad_N ):\n",
        "         T_cpu [idy][idx] = M_cpu [idx][idy] \n",
        "\n",
        "tiempo_bucle = datetime.now() - tiempo_bucle\n",
        "\n",
        "#\"\"\"\n",
        "# CPU - Informo el resutlado.\n",
        "print( \"------------------------------------\")\n",
        "print( \"Matriz M: \" )\n",
        "print( M_cpu )\n",
        "print( \"------------------------------------\")\n",
        "print( \"Transpuesta T: \" )\n",
        "print( T_cpu )\n",
        "#\"\"\"\n",
        "\n",
        "tiempo_total = datetime.now() - tiempo_total\n",
        "\n",
        "print(\"Tiempo Total: \", tiempo_en_ms( tiempo_total ), \"[ms]\" )\n",
        "print(\"Tiempo bucle: \", tiempo_en_ms( tiempo_bucle ), \"[ms]\" )\n"
      ],
      "execution_count": null,
      "outputs": []
    },
    {
      "cell_type": "markdown",
      "metadata": {
        "id": "EALIlyyG6iqP"
      },
      "source": [
        "---\n",
        "# 4 Tabla de pasos de ejecución del programa\n",
        "\n",
        " Procesador | Función | Detalle\n",
        "------------|---------|----------\n",
        "CPU      |  @param                | Lectura del tamaño de vectores desde Colab.\n",
        "CPU      |  import                | Importa los módulos para funcionar.\n",
        "CPU      |  datetime.now()        | Toma el tiempo inicial.\n",
        "CPU      |  numpy.random.randn( Cantidad_N ) | Inicializa las matrices M y T.\n",
        "CPU      |  for...for                | Realiza la transpuesta de la matriz M, guardando el resultado en T. \n",
        "CPU      |  datetime.now()        | Toma el tiempo final.\n",
        "CPU      |  print()               | Informa los resultados.\n",
        "\n"
      ]
    },
    {
      "cell_type": "markdown",
      "metadata": {
        "id": "TzgZkrQD-UTy"
      },
      "source": [
        "---\n",
        "# 5 Conclusiones\n",
        "\n",
        "A medida que aumenta la cantidad de elementos de la matriz aumenta el tiempo de procesamiento. En CPU tenemos menos funciones y pasos para ejecutar pero la ejecución se realiza mediante dos ciclos for de forma secuencial lo que afecta los tiempos de procesamiento total comparado con GPU. \n",
        "\n",
        "**Sugerencias de mejora:** \n",
        "\n",
        "1) Se podria realizar una mejora para que el algoritmo funcione para matrices no cuadradas. Ejemplo \n",
        " N = 4 (filas)\n",
        " M = 2 (columnas)\n",
        "\n",
        "2) Se podria realizar una mejora para que el algoritmo permita ejecutar operaciones y realizar comprobaciones de las propiedades con más de una matriz. Por ejemplo: la suma traspuesta de matrices es igual a la suma de las matrices traspuestas: (X+Z) EXP T = X EXP T + Z EXP T.\n",
        "\n",
        "De esta manera el algoritmo podria servir aún más para fines educativos.  \n"
      ]
    },
    {
      "cell_type": "markdown",
      "metadata": {
        "id": "6hn6HOCYEjyY"
      },
      "source": [
        "---\n",
        "# 6 Bibliografia\n",
        "\n",
        "Introducción a Python: [Página Colab](https://github.com/wvaliente/SOA_HPC/blob/main/Documentos/Python_Basico.ipynb) \n",
        "\n",
        "Documentación PyCUDA: [WEB](https://documen.tician.de/pycuda/index.html)\n",
        "\n",
        "Paginas de Referencia: [WEB]\n",
        "\n",
        "https://stackoverrun.com/es/q/3720173\n",
        "\n",
        "https://fisica.cab.cnea.gov.ar/gpgpu/images/clases/clase7_multiplicacion%20de%20matrices.pdf\n",
        "\n",
        "https://developer.nvidia.com/blog/efficient-matrix-transpose-cuda-cc/\n",
        "\n",
        "\n"
      ]
    }
  ]
}